{
 "cells": [
  {
   "cell_type": "code",
   "execution_count": 9,
   "id": "fc77fb83-6123-47e6-ae36-7809653b4db3",
   "metadata": {
    "tags": []
   },
   "outputs": [
    {
     "name": "stderr",
     "output_type": "stream",
     "text": [
      "[nltk_data] Downloading package wordnet to\n",
      "[nltk_data]     C:\\Users\\arvin\\AppData\\Roaming\\nltk_data...\n"
     ]
    },
    {
     "data": {
      "text/plain": [
       "True"
      ]
     },
     "execution_count": 9,
     "metadata": {},
     "output_type": "execute_result"
    }
   ],
   "source": [
    "import nltk\n",
    "nltk.download('wordnet')"
   ]
  },
  {
   "cell_type": "code",
   "execution_count": 2,
   "id": "197ba2f0-02a9-49f1-b171-2ebde53996d8",
   "metadata": {
    "tags": []
   },
   "outputs": [],
   "source": [
    "from nltk.stem import PorterStemmer"
   ]
  },
  {
   "cell_type": "code",
   "execution_count": 3,
   "id": "f9b85bcf-56f0-4638-a709-798d0134cd19",
   "metadata": {
    "tags": []
   },
   "outputs": [],
   "source": [
    "st=PorterStemmer()"
   ]
  },
  {
   "cell_type": "code",
   "execution_count": 4,
   "id": "c4b60227-59bb-4c2b-915d-e746b6342e2a",
   "metadata": {
    "tags": []
   },
   "outputs": [
    {
     "name": "stdin",
     "output_type": "stream",
     "text": [
      "enter everything\n"
     ]
    },
    {
     "data": {
      "text/plain": [
       "'everyth'"
      ]
     },
     "execution_count": 4,
     "metadata": {},
     "output_type": "execute_result"
    }
   ],
   "source": [
    "st.stem(str(input(\"enter\")))"
   ]
  },
  {
   "cell_type": "code",
   "execution_count": 5,
   "id": "114d0d06-f779-4c75-b17c-157007654ad6",
   "metadata": {
    "tags": []
   },
   "outputs": [],
   "source": [
    "from nltk.stem import WordNetLemmatizer"
   ]
  },
  {
   "cell_type": "code",
   "execution_count": 6,
   "id": "29dc50ab-af9c-4a56-9bfb-116be8bcd78f",
   "metadata": {
    "tags": []
   },
   "outputs": [],
   "source": [
    "l=WordNetLemmatizer()"
   ]
  },
  {
   "cell_type": "code",
   "execution_count": 10,
   "id": "af380534-158c-43af-a81b-0850544f5b68",
   "metadata": {
    "tags": []
   },
   "outputs": [
    {
     "name": "stdin",
     "output_type": "stream",
     "text": [
      "enter everything\n"
     ]
    },
    {
     "data": {
      "text/plain": [
       "'everything'"
      ]
     },
     "execution_count": 10,
     "metadata": {},
     "output_type": "execute_result"
    }
   ],
   "source": [
    "l.lemmatize(str(input(\"enter\")))"
   ]
  },
  {
   "cell_type": "code",
   "execution_count": null,
   "id": "0b71d9a0-6ed8-4f7d-8224-ffb98aac9b8c",
   "metadata": {},
   "outputs": [],
   "source": []
  }
 ],
 "metadata": {
  "kernelspec": {
   "display_name": "Python 3 (ipykernel)",
   "language": "python",
   "name": "python3"
  },
  "language_info": {
   "codemirror_mode": {
    "name": "ipython",
    "version": 3
   },
   "file_extension": ".py",
   "mimetype": "text/x-python",
   "name": "python",
   "nbconvert_exporter": "python",
   "pygments_lexer": "ipython3",
   "version": "3.11.2"
  }
 },
 "nbformat": 4,
 "nbformat_minor": 5
}
